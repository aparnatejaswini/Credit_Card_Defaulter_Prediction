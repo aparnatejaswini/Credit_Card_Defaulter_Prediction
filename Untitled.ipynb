{
 "cells": [
  {
   "cell_type": "code",
   "execution_count": 83,
   "id": "7f6c2d87",
   "metadata": {},
   "outputs": [],
   "source": [
    "import pandas as pd"
   ]
  },
  {
   "cell_type": "code",
   "execution_count": 84,
   "id": "336b2a20",
   "metadata": {},
   "outputs": [],
   "source": [
    "file_name = r\".\\credit_defaulter_prediction\\artifact\\data_ingestion\\20221122_095104\\data\\cc_defaulter_pred_data.xls\""
   ]
  },
  {
   "cell_type": "code",
   "execution_count": 85,
   "id": "06ad9d34",
   "metadata": {},
   "outputs": [],
   "source": [
    "df = pd.read_excel(file_name, header=1)"
   ]
  },
  {
   "cell_type": "code",
   "execution_count": 86,
   "id": "5fc15fe1",
   "metadata": {},
   "outputs": [
    {
     "data": {
      "text/html": [
       "<div>\n",
       "<style scoped>\n",
       "    .dataframe tbody tr th:only-of-type {\n",
       "        vertical-align: middle;\n",
       "    }\n",
       "\n",
       "    .dataframe tbody tr th {\n",
       "        vertical-align: top;\n",
       "    }\n",
       "\n",
       "    .dataframe thead th {\n",
       "        text-align: right;\n",
       "    }\n",
       "</style>\n",
       "<table border=\"1\" class=\"dataframe\">\n",
       "  <thead>\n",
       "    <tr style=\"text-align: right;\">\n",
       "      <th></th>\n",
       "      <th>ID</th>\n",
       "      <th>LIMIT_BAL</th>\n",
       "      <th>SEX</th>\n",
       "      <th>EDUCATION</th>\n",
       "      <th>MARRIAGE</th>\n",
       "      <th>AGE</th>\n",
       "      <th>PAY_0</th>\n",
       "      <th>PAY_2</th>\n",
       "      <th>PAY_3</th>\n",
       "      <th>PAY_4</th>\n",
       "      <th>...</th>\n",
       "      <th>BILL_AMT4</th>\n",
       "      <th>BILL_AMT5</th>\n",
       "      <th>BILL_AMT6</th>\n",
       "      <th>PAY_AMT1</th>\n",
       "      <th>PAY_AMT2</th>\n",
       "      <th>PAY_AMT3</th>\n",
       "      <th>PAY_AMT4</th>\n",
       "      <th>PAY_AMT5</th>\n",
       "      <th>PAY_AMT6</th>\n",
       "      <th>default payment next month</th>\n",
       "    </tr>\n",
       "  </thead>\n",
       "  <tbody>\n",
       "    <tr>\n",
       "      <th>0</th>\n",
       "      <td>1</td>\n",
       "      <td>20000</td>\n",
       "      <td>2</td>\n",
       "      <td>2</td>\n",
       "      <td>1</td>\n",
       "      <td>24</td>\n",
       "      <td>2</td>\n",
       "      <td>2</td>\n",
       "      <td>-1</td>\n",
       "      <td>-1</td>\n",
       "      <td>...</td>\n",
       "      <td>0</td>\n",
       "      <td>0</td>\n",
       "      <td>0</td>\n",
       "      <td>0</td>\n",
       "      <td>689</td>\n",
       "      <td>0</td>\n",
       "      <td>0</td>\n",
       "      <td>0</td>\n",
       "      <td>0</td>\n",
       "      <td>1</td>\n",
       "    </tr>\n",
       "    <tr>\n",
       "      <th>1</th>\n",
       "      <td>2</td>\n",
       "      <td>120000</td>\n",
       "      <td>2</td>\n",
       "      <td>2</td>\n",
       "      <td>2</td>\n",
       "      <td>26</td>\n",
       "      <td>-1</td>\n",
       "      <td>2</td>\n",
       "      <td>0</td>\n",
       "      <td>0</td>\n",
       "      <td>...</td>\n",
       "      <td>3272</td>\n",
       "      <td>3455</td>\n",
       "      <td>3261</td>\n",
       "      <td>0</td>\n",
       "      <td>1000</td>\n",
       "      <td>1000</td>\n",
       "      <td>1000</td>\n",
       "      <td>0</td>\n",
       "      <td>2000</td>\n",
       "      <td>1</td>\n",
       "    </tr>\n",
       "    <tr>\n",
       "      <th>2</th>\n",
       "      <td>3</td>\n",
       "      <td>90000</td>\n",
       "      <td>2</td>\n",
       "      <td>2</td>\n",
       "      <td>2</td>\n",
       "      <td>34</td>\n",
       "      <td>0</td>\n",
       "      <td>0</td>\n",
       "      <td>0</td>\n",
       "      <td>0</td>\n",
       "      <td>...</td>\n",
       "      <td>14331</td>\n",
       "      <td>14948</td>\n",
       "      <td>15549</td>\n",
       "      <td>1518</td>\n",
       "      <td>1500</td>\n",
       "      <td>1000</td>\n",
       "      <td>1000</td>\n",
       "      <td>1000</td>\n",
       "      <td>5000</td>\n",
       "      <td>0</td>\n",
       "    </tr>\n",
       "    <tr>\n",
       "      <th>3</th>\n",
       "      <td>4</td>\n",
       "      <td>50000</td>\n",
       "      <td>2</td>\n",
       "      <td>2</td>\n",
       "      <td>1</td>\n",
       "      <td>37</td>\n",
       "      <td>0</td>\n",
       "      <td>0</td>\n",
       "      <td>0</td>\n",
       "      <td>0</td>\n",
       "      <td>...</td>\n",
       "      <td>28314</td>\n",
       "      <td>28959</td>\n",
       "      <td>29547</td>\n",
       "      <td>2000</td>\n",
       "      <td>2019</td>\n",
       "      <td>1200</td>\n",
       "      <td>1100</td>\n",
       "      <td>1069</td>\n",
       "      <td>1000</td>\n",
       "      <td>0</td>\n",
       "    </tr>\n",
       "    <tr>\n",
       "      <th>4</th>\n",
       "      <td>5</td>\n",
       "      <td>50000</td>\n",
       "      <td>1</td>\n",
       "      <td>2</td>\n",
       "      <td>1</td>\n",
       "      <td>57</td>\n",
       "      <td>-1</td>\n",
       "      <td>0</td>\n",
       "      <td>-1</td>\n",
       "      <td>0</td>\n",
       "      <td>...</td>\n",
       "      <td>20940</td>\n",
       "      <td>19146</td>\n",
       "      <td>19131</td>\n",
       "      <td>2000</td>\n",
       "      <td>36681</td>\n",
       "      <td>10000</td>\n",
       "      <td>9000</td>\n",
       "      <td>689</td>\n",
       "      <td>679</td>\n",
       "      <td>0</td>\n",
       "    </tr>\n",
       "  </tbody>\n",
       "</table>\n",
       "<p>5 rows × 25 columns</p>\n",
       "</div>"
      ],
      "text/plain": [
       "   ID  LIMIT_BAL  SEX  EDUCATION  MARRIAGE  AGE  PAY_0  PAY_2  PAY_3  PAY_4  \\\n",
       "0   1      20000    2          2         1   24      2      2     -1     -1   \n",
       "1   2     120000    2          2         2   26     -1      2      0      0   \n",
       "2   3      90000    2          2         2   34      0      0      0      0   \n",
       "3   4      50000    2          2         1   37      0      0      0      0   \n",
       "4   5      50000    1          2         1   57     -1      0     -1      0   \n",
       "\n",
       "   ...  BILL_AMT4  BILL_AMT5  BILL_AMT6  PAY_AMT1  PAY_AMT2  PAY_AMT3  \\\n",
       "0  ...          0          0          0         0       689         0   \n",
       "1  ...       3272       3455       3261         0      1000      1000   \n",
       "2  ...      14331      14948      15549      1518      1500      1000   \n",
       "3  ...      28314      28959      29547      2000      2019      1200   \n",
       "4  ...      20940      19146      19131      2000     36681     10000   \n",
       "\n",
       "   PAY_AMT4  PAY_AMT5  PAY_AMT6  default payment next month  \n",
       "0         0         0         0                           1  \n",
       "1      1000         0      2000                           1  \n",
       "2      1000      1000      5000                           0  \n",
       "3      1100      1069      1000                           0  \n",
       "4      9000       689       679                           0  \n",
       "\n",
       "[5 rows x 25 columns]"
      ]
     },
     "execution_count": 86,
     "metadata": {},
     "output_type": "execute_result"
    }
   ],
   "source": [
    "df.head()"
   ]
  },
  {
   "cell_type": "code",
   "execution_count": 87,
   "id": "7ee924e6",
   "metadata": {},
   "outputs": [
    {
     "data": {
      "text/plain": [
       "(30000, 25)"
      ]
     },
     "execution_count": 87,
     "metadata": {},
     "output_type": "execute_result"
    }
   ],
   "source": [
    "df.shape"
   ]
  },
  {
   "cell_type": "code",
   "execution_count": 88,
   "id": "59fa75b2",
   "metadata": {},
   "outputs": [
    {
     "data": {
      "text/plain": [
       "0    0.7788\n",
       "1    0.2212\n",
       "Name: default payment next month, dtype: float64"
      ]
     },
     "execution_count": 88,
     "metadata": {},
     "output_type": "execute_result"
    }
   ],
   "source": [
    "df[\"default payment next month\"].value_counts(normalize=True)"
   ]
  },
  {
   "cell_type": "markdown",
   "id": "5e74ee0b",
   "metadata": {},
   "source": [
    "#### Observations:\n",
    "\n",
    "This dataset appears to be imbalanced dataset. \n",
    "To proceed further\n",
    "1. Use stratified shuffle split to maintain similar distribution of classes in train and test data\n",
    "2. Synthesize data"
   ]
  },
  {
   "cell_type": "code",
   "execution_count": 89,
   "id": "df8e1da3",
   "metadata": {},
   "outputs": [],
   "source": [
    "train_file_path = r\"./credit_defaulter_prediction/artifact/data_ingestion/20221122_095104/train/train.csv\"\n",
    "test_file_path = r\"./credit_defaulter_prediction/artifact/data_ingestion/20221122_095104/test/test.csv\""
   ]
  },
  {
   "cell_type": "code",
   "execution_count": 90,
   "id": "2bf045be",
   "metadata": {},
   "outputs": [],
   "source": [
    "df_train = pd.read_csv(train_file_path)\n",
    "df_test = pd.read_csv(test_file_path)"
   ]
  },
  {
   "cell_type": "code",
   "execution_count": 91,
   "id": "33d852c2",
   "metadata": {},
   "outputs": [
    {
     "data": {
      "text/plain": [
       "0    0.778792\n",
       "1    0.221208\n",
       "Name: default payment next month, dtype: float64"
      ]
     },
     "execution_count": 91,
     "metadata": {},
     "output_type": "execute_result"
    }
   ],
   "source": [
    "df_train[\"default payment next month\"].value_counts(normalize=True)"
   ]
  },
  {
   "cell_type": "code",
   "execution_count": 92,
   "id": "56ff6f3f",
   "metadata": {},
   "outputs": [
    {
     "data": {
      "text/plain": [
       "0    0.778833\n",
       "1    0.221167\n",
       "Name: default payment next month, dtype: float64"
      ]
     },
     "execution_count": 92,
     "metadata": {},
     "output_type": "execute_result"
    }
   ],
   "source": [
    "df_test[\"default payment next month\"].value_counts(normalize=True)"
   ]
  },
  {
   "cell_type": "code",
   "execution_count": 93,
   "id": "fcb86dbd",
   "metadata": {},
   "outputs": [],
   "source": [
    "train_df = df_train.copy()"
   ]
  },
  {
   "cell_type": "code",
   "execution_count": 94,
   "id": "8e38e668",
   "metadata": {},
   "outputs": [
    {
     "name": "stdout",
     "output_type": "stream",
     "text": [
      "<class 'pandas.core.frame.DataFrame'>\n",
      "RangeIndex: 24000 entries, 0 to 23999\n",
      "Data columns (total 25 columns):\n",
      " #   Column                      Non-Null Count  Dtype\n",
      "---  ------                      --------------  -----\n",
      " 0   ID                          24000 non-null  int64\n",
      " 1   LIMIT_BAL                   24000 non-null  int64\n",
      " 2   SEX                         24000 non-null  int64\n",
      " 3   EDUCATION                   24000 non-null  int64\n",
      " 4   MARRIAGE                    24000 non-null  int64\n",
      " 5   AGE                         24000 non-null  int64\n",
      " 6   PAY_0                       24000 non-null  int64\n",
      " 7   PAY_2                       24000 non-null  int64\n",
      " 8   PAY_3                       24000 non-null  int64\n",
      " 9   PAY_4                       24000 non-null  int64\n",
      " 10  PAY_5                       24000 non-null  int64\n",
      " 11  PAY_6                       24000 non-null  int64\n",
      " 12  BILL_AMT1                   24000 non-null  int64\n",
      " 13  BILL_AMT2                   24000 non-null  int64\n",
      " 14  BILL_AMT3                   24000 non-null  int64\n",
      " 15  BILL_AMT4                   24000 non-null  int64\n",
      " 16  BILL_AMT5                   24000 non-null  int64\n",
      " 17  BILL_AMT6                   24000 non-null  int64\n",
      " 18  PAY_AMT1                    24000 non-null  int64\n",
      " 19  PAY_AMT2                    24000 non-null  int64\n",
      " 20  PAY_AMT3                    24000 non-null  int64\n",
      " 21  PAY_AMT4                    24000 non-null  int64\n",
      " 22  PAY_AMT5                    24000 non-null  int64\n",
      " 23  PAY_AMT6                    24000 non-null  int64\n",
      " 24  default payment next month  24000 non-null  int64\n",
      "dtypes: int64(25)\n",
      "memory usage: 4.6 MB\n"
     ]
    }
   ],
   "source": [
    "train_df.info()"
   ]
  },
  {
   "cell_type": "code",
   "execution_count": 95,
   "id": "c1de2404",
   "metadata": {},
   "outputs": [],
   "source": [
    "train_df.drop(\"ID\", axis=1, inplace=True) #step1: dropped colunmn ID"
   ]
  },
  {
   "cell_type": "code",
   "execution_count": 96,
   "id": "a4def368",
   "metadata": {},
   "outputs": [],
   "source": [
    "column_names = train_df.columns.values"
   ]
  },
  {
   "cell_type": "code",
   "execution_count": 97,
   "id": "8eaabe00",
   "metadata": {},
   "outputs": [
    {
     "data": {
      "text/plain": [
       "array(['LIMIT_BAL', 'SEX', 'EDUCATION', 'MARRIAGE', 'AGE', 'PAY_0',\n",
       "       'PAY_2', 'PAY_3', 'PAY_4', 'PAY_5', 'PAY_6', 'BILL_AMT1',\n",
       "       'BILL_AMT2', 'BILL_AMT3', 'BILL_AMT4', 'BILL_AMT5', 'BILL_AMT6',\n",
       "       'PAY_AMT1', 'PAY_AMT2', 'PAY_AMT3', 'PAY_AMT4', 'PAY_AMT5',\n",
       "       'PAY_AMT6', 'default payment next month'], dtype=object)"
      ]
     },
     "execution_count": 97,
     "metadata": {},
     "output_type": "execute_result"
    }
   ],
   "source": [
    "column_names"
   ]
  },
  {
   "cell_type": "markdown",
   "id": "81d418d9",
   "metadata": {},
   "source": [
    "#### Relation between 'LIMIT_BAL' and 'default payment next month'"
   ]
  },
  {
   "cell_type": "code",
   "execution_count": 105,
   "id": "696c4ba8",
   "metadata": {},
   "outputs": [
    {
     "data": {
      "text/plain": [
       "<AxesSubplot:xlabel='LIMIT_BAL', ylabel='Count'>"
      ]
     },
     "execution_count": 105,
     "metadata": {},
     "output_type": "execute_result"
    },
    {
     "data": {
      "image/png": "[encoded data removed]",
      "text/plain": [
       "<Figure size 1008x720 with 1 Axes>"
      ]
     },
     "metadata": {
      "needs_background": "light"
     },
     "output_type": "display_data"
    }
   ],
   "source": [
    "import matplotlib.pyplot as plt\n",
    "import seaborn as sns\n",
    "plt.figure(figsize=(14, 10))\n",
    "sns.histplot(x='LIMIT_BAL', kde=True, hue='default payment next month', data=train_df )"
   ]
  },
  {
   "cell_type": "code",
   "execution_count": 117,
   "id": "17a4c0f6",
   "metadata": {},
   "outputs": [
    {
     "data": {
      "text/html": [
       "<div>\n",
       "<style scoped>\n",
       "    .dataframe tbody tr th:only-of-type {\n",
       "        vertical-align: middle;\n",
       "    }\n",
       "\n",
       "    .dataframe tbody tr th {\n",
       "        vertical-align: top;\n",
       "    }\n",
       "\n",
       "    .dataframe thead th {\n",
       "        text-align: right;\n",
       "    }\n",
       "</style>\n",
       "<table border=\"1\" class=\"dataframe\">\n",
       "  <thead>\n",
       "    <tr style=\"text-align: right;\">\n",
       "      <th></th>\n",
       "      <th>count</th>\n",
       "      <th>mean</th>\n",
       "      <th>std</th>\n",
       "      <th>min</th>\n",
       "      <th>25%</th>\n",
       "      <th>50%</th>\n",
       "      <th>75%</th>\n",
       "      <th>max</th>\n",
       "    </tr>\n",
       "  </thead>\n",
       "  <tbody>\n",
       "    <tr>\n",
       "      <th>LIMIT_BAL</th>\n",
       "      <td>24000.0</td>\n",
       "      <td>167687.903333</td>\n",
       "      <td>129974.691354</td>\n",
       "      <td>10000.0</td>\n",
       "      <td>50000.00</td>\n",
       "      <td>140000.0</td>\n",
       "      <td>240000.00</td>\n",
       "      <td>800000.0</td>\n",
       "    </tr>\n",
       "    <tr>\n",
       "      <th>SEX</th>\n",
       "      <td>24000.0</td>\n",
       "      <td>1.602208</td>\n",
       "      <td>0.489452</td>\n",
       "      <td>1.0</td>\n",
       "      <td>1.00</td>\n",
       "      <td>2.0</td>\n",
       "      <td>2.00</td>\n",
       "      <td>2.0</td>\n",
       "    </tr>\n",
       "    <tr>\n",
       "      <th>EDUCATION</th>\n",
       "      <td>24000.0</td>\n",
       "      <td>1.856292</td>\n",
       "      <td>0.798488</td>\n",
       "      <td>0.0</td>\n",
       "      <td>1.00</td>\n",
       "      <td>2.0</td>\n",
       "      <td>2.00</td>\n",
       "      <td>6.0</td>\n",
       "    </tr>\n",
       "    <tr>\n",
       "      <th>MARRIAGE</th>\n",
       "      <td>24000.0</td>\n",
       "      <td>1.550625</td>\n",
       "      <td>0.520847</td>\n",
       "      <td>0.0</td>\n",
       "      <td>1.00</td>\n",
       "      <td>2.0</td>\n",
       "      <td>2.00</td>\n",
       "      <td>3.0</td>\n",
       "    </tr>\n",
       "    <tr>\n",
       "      <th>AGE</th>\n",
       "      <td>24000.0</td>\n",
       "      <td>35.432042</td>\n",
       "      <td>9.206171</td>\n",
       "      <td>21.0</td>\n",
       "      <td>28.00</td>\n",
       "      <td>34.0</td>\n",
       "      <td>41.00</td>\n",
       "      <td>79.0</td>\n",
       "    </tr>\n",
       "    <tr>\n",
       "      <th>PAY_0</th>\n",
       "      <td>24000.0</td>\n",
       "      <td>-0.018833</td>\n",
       "      <td>1.122214</td>\n",
       "      <td>-2.0</td>\n",
       "      <td>-1.00</td>\n",
       "      <td>0.0</td>\n",
       "      <td>0.00</td>\n",
       "      <td>8.0</td>\n",
       "    </tr>\n",
       "    <tr>\n",
       "      <th>PAY_2</th>\n",
       "      <td>24000.0</td>\n",
       "      <td>-0.135833</td>\n",
       "      <td>1.195453</td>\n",
       "      <td>-2.0</td>\n",
       "      <td>-1.00</td>\n",
       "      <td>0.0</td>\n",
       "      <td>0.00</td>\n",
       "      <td>8.0</td>\n",
       "    </tr>\n",
       "    <tr>\n",
       "      <th>PAY_3</th>\n",
       "      <td>24000.0</td>\n",
       "      <td>-0.168000</td>\n",
       "      <td>1.195722</td>\n",
       "      <td>-2.0</td>\n",
       "      <td>-1.00</td>\n",
       "      <td>0.0</td>\n",
       "      <td>0.00</td>\n",
       "      <td>8.0</td>\n",
       "    </tr>\n",
       "    <tr>\n",
       "      <th>PAY_4</th>\n",
       "      <td>24000.0</td>\n",
       "      <td>-0.220625</td>\n",
       "      <td>1.173282</td>\n",
       "      <td>-2.0</td>\n",
       "      <td>-1.00</td>\n",
       "      <td>0.0</td>\n",
       "      <td>0.00</td>\n",
       "      <td>8.0</td>\n",
       "    </tr>\n",
       "    <tr>\n",
       "      <th>PAY_5</th>\n",
       "      <td>24000.0</td>\n",
       "      <td>-0.264833</td>\n",
       "      <td>1.137065</td>\n",
       "      <td>-2.0</td>\n",
       "      <td>-1.00</td>\n",
       "      <td>0.0</td>\n",
       "      <td>0.00</td>\n",
       "      <td>8.0</td>\n",
       "    </tr>\n",
       "    <tr>\n",
       "      <th>PAY_6</th>\n",
       "      <td>24000.0</td>\n",
       "      <td>-0.291750</td>\n",
       "      <td>1.149936</td>\n",
       "      <td>-2.0</td>\n",
       "      <td>-1.00</td>\n",
       "      <td>0.0</td>\n",
       "      <td>0.00</td>\n",
       "      <td>8.0</td>\n",
       "    </tr>\n",
       "    <tr>\n",
       "      <th>BILL_AMT1</th>\n",
       "      <td>24000.0</td>\n",
       "      <td>50993.903958</td>\n",
       "      <td>72981.995046</td>\n",
       "      <td>-165580.0</td>\n",
       "      <td>3505.25</td>\n",
       "      <td>22274.0</td>\n",
       "      <td>66868.75</td>\n",
       "      <td>630458.0</td>\n",
       "    </tr>\n",
       "    <tr>\n",
       "      <th>BILL_AMT2</th>\n",
       "      <td>24000.0</td>\n",
       "      <td>49023.957417</td>\n",
       "      <td>70507.581055</td>\n",
       "      <td>-67526.0</td>\n",
       "      <td>2973.25</td>\n",
       "      <td>21080.5</td>\n",
       "      <td>63817.25</td>\n",
       "      <td>646770.0</td>\n",
       "    </tr>\n",
       "    <tr>\n",
       "      <th>BILL_AMT3</th>\n",
       "      <td>24000.0</td>\n",
       "      <td>46955.525000</td>\n",
       "      <td>69241.834127</td>\n",
       "      <td>-157264.0</td>\n",
       "      <td>2662.75</td>\n",
       "      <td>19998.5</td>\n",
       "      <td>60039.00</td>\n",
       "      <td>1664089.0</td>\n",
       "    </tr>\n",
       "    <tr>\n",
       "      <th>BILL_AMT4</th>\n",
       "      <td>24000.0</td>\n",
       "      <td>43222.410875</td>\n",
       "      <td>63957.601701</td>\n",
       "      <td>-170000.0</td>\n",
       "      <td>2313.00</td>\n",
       "      <td>18967.5</td>\n",
       "      <td>54460.50</td>\n",
       "      <td>628699.0</td>\n",
       "    </tr>\n",
       "    <tr>\n",
       "      <th>BILL_AMT5</th>\n",
       "      <td>24000.0</td>\n",
       "      <td>40258.509208</td>\n",
       "      <td>60394.189460</td>\n",
       "      <td>-53007.0</td>\n",
       "      <td>1745.75</td>\n",
       "      <td>18072.5</td>\n",
       "      <td>50065.25</td>\n",
       "      <td>823540.0</td>\n",
       "    </tr>\n",
       "    <tr>\n",
       "      <th>BILL_AMT6</th>\n",
       "      <td>24000.0</td>\n",
       "      <td>38812.205542</td>\n",
       "      <td>59117.498868</td>\n",
       "      <td>-209051.0</td>\n",
       "      <td>1248.00</td>\n",
       "      <td>16999.5</td>\n",
       "      <td>49104.50</td>\n",
       "      <td>699944.0</td>\n",
       "    </tr>\n",
       "    <tr>\n",
       "      <th>PAY_AMT1</th>\n",
       "      <td>24000.0</td>\n",
       "      <td>5728.642708</td>\n",
       "      <td>16729.536037</td>\n",
       "      <td>0.0</td>\n",
       "      <td>1000.00</td>\n",
       "      <td>2100.0</td>\n",
       "      <td>5017.00</td>\n",
       "      <td>873552.0</td>\n",
       "    </tr>\n",
       "    <tr>\n",
       "      <th>PAY_AMT2</th>\n",
       "      <td>24000.0</td>\n",
       "      <td>5913.115042</td>\n",
       "      <td>23015.658396</td>\n",
       "      <td>0.0</td>\n",
       "      <td>838.25</td>\n",
       "      <td>2007.0</td>\n",
       "      <td>5000.00</td>\n",
       "      <td>1684259.0</td>\n",
       "    </tr>\n",
       "    <tr>\n",
       "      <th>PAY_AMT3</th>\n",
       "      <td>24000.0</td>\n",
       "      <td>5212.149875</td>\n",
       "      <td>16854.791251</td>\n",
       "      <td>0.0</td>\n",
       "      <td>390.00</td>\n",
       "      <td>1800.0</td>\n",
       "      <td>4558.25</td>\n",
       "      <td>889043.0</td>\n",
       "    </tr>\n",
       "    <tr>\n",
       "      <th>PAY_AMT4</th>\n",
       "      <td>24000.0</td>\n",
       "      <td>4849.232917</td>\n",
       "      <td>16036.747727</td>\n",
       "      <td>0.0</td>\n",
       "      <td>291.00</td>\n",
       "      <td>1500.0</td>\n",
       "      <td>4013.25</td>\n",
       "      <td>621000.0</td>\n",
       "    </tr>\n",
       "    <tr>\n",
       "      <th>PAY_AMT5</th>\n",
       "      <td>24000.0</td>\n",
       "      <td>4827.517292</td>\n",
       "      <td>15441.747138</td>\n",
       "      <td>0.0</td>\n",
       "      <td>250.75</td>\n",
       "      <td>1500.0</td>\n",
       "      <td>4016.25</td>\n",
       "      <td>426529.0</td>\n",
       "    </tr>\n",
       "    <tr>\n",
       "      <th>PAY_AMT6</th>\n",
       "      <td>24000.0</td>\n",
       "      <td>5262.717500</td>\n",
       "      <td>18055.773419</td>\n",
       "      <td>0.0</td>\n",
       "      <td>100.00</td>\n",
       "      <td>1500.0</td>\n",
       "      <td>4000.00</td>\n",
       "      <td>528666.0</td>\n",
       "    </tr>\n",
       "    <tr>\n",
       "      <th>default payment next month</th>\n",
       "      <td>24000.0</td>\n",
       "      <td>0.221208</td>\n",
       "      <td>0.415069</td>\n",
       "      <td>0.0</td>\n",
       "      <td>0.00</td>\n",
       "      <td>0.0</td>\n",
       "      <td>0.00</td>\n",
       "      <td>1.0</td>\n",
       "    </tr>\n",
       "  </tbody>\n",
       "</table>\n",
       "</div>"
      ],
      "text/plain": [
       "                              count           mean            std       min  \\\n",
       "LIMIT_BAL                   24000.0  167687.903333  129974.691354   10000.0   \n",
       "SEX                         24000.0       1.602208       0.489452       1.0   \n",
       "EDUCATION                   24000.0       1.856292       0.798488       0.0   \n",
       "MARRIAGE                    24000.0       1.550625       0.520847       0.0   \n",
       "AGE                         24000.0      35.432042       9.206171      21.0   \n",
       "PAY_0                       24000.0      -0.018833       1.122214      -2.0   \n",
       "PAY_2                       24000.0      -0.135833       1.195453      -2.0   \n",
       "PAY_3                       24000.0      -0.168000       1.195722      -2.0   \n",
       "PAY_4                       24000.0      -0.220625       1.173282      -2.0   \n",
       "PAY_5                       24000.0      -0.264833       1.137065      -2.0   \n",
       "PAY_6                       24000.0      -0.291750       1.149936      -2.0   \n",
       "BILL_AMT1                   24000.0   50993.903958   72981.995046 -165580.0   \n",
       "BILL_AMT2                   24000.0   49023.957417   70507.581055  -67526.0   \n",
       "BILL_AMT3                   24000.0   46955.525000   69241.834127 -157264.0   \n",
       "BILL_AMT4                   24000.0   43222.410875   63957.601701 -170000.0   \n",
       "BILL_AMT5                   24000.0   40258.509208   60394.189460  -53007.0   \n",
       "BILL_AMT6                   24000.0   38812.205542   59117.498868 -209051.0   \n",
       "PAY_AMT1                    24000.0    5728.642708   16729.536037       0.0   \n",
       "PAY_AMT2                    24000.0    5913.115042   23015.658396       0.0   \n",
       "PAY_AMT3                    24000.0    5212.149875   16854.791251       0.0   \n",
       "PAY_AMT4                    24000.0    4849.232917   16036.747727       0.0   \n",
       "PAY_AMT5                    24000.0    4827.517292   15441.747138       0.0   \n",
       "PAY_AMT6                    24000.0    5262.717500   18055.773419       0.0   \n",
       "default payment next month  24000.0       0.221208       0.415069       0.0   \n",
       "\n",
       "                                 25%       50%        75%        max  \n",
       "LIMIT_BAL                   50000.00  140000.0  240000.00   800000.0  \n",
       "SEX                             1.00       2.0       2.00        2.0  \n",
       "EDUCATION                       1.00       2.0       2.00        6.0  \n",
       "MARRIAGE                        1.00       2.0       2.00        3.0  \n",
       "AGE                            28.00      34.0      41.00       79.0  \n",
       "PAY_0                          -1.00       0.0       0.00        8.0  \n",
       "PAY_2                          -1.00       0.0       0.00        8.0  \n",
       "PAY_3                          -1.00       0.0       0.00        8.0  \n",
       "PAY_4                          -1.00       0.0       0.00        8.0  \n",
       "PAY_5                          -1.00       0.0       0.00        8.0  \n",
       "PAY_6                          -1.00       0.0       0.00        8.0  \n",
       "BILL_AMT1                    3505.25   22274.0   66868.75   630458.0  \n",
       "BILL_AMT2                    2973.25   21080.5   63817.25   646770.0  \n",
       "BILL_AMT3                    2662.75   19998.5   60039.00  1664089.0  \n",
       "BILL_AMT4                    2313.00   18967.5   54460.50   628699.0  \n",
       "BILL_AMT5                    1745.75   18072.5   50065.25   823540.0  \n",
       "BILL_AMT6                    1248.00   16999.5   49104.50   699944.0  \n",
       "PAY_AMT1                     1000.00    2100.0    5017.00   873552.0  \n",
       "PAY_AMT2                      838.25    2007.0    5000.00  1684259.0  \n",
       "PAY_AMT3                      390.00    1800.0    4558.25   889043.0  \n",
       "PAY_AMT4                      291.00    1500.0    4013.25   621000.0  \n",
       "PAY_AMT5                      250.75    1500.0    4016.25   426529.0  \n",
       "PAY_AMT6                      100.00    1500.0    4000.00   528666.0  \n",
       "default payment next month      0.00       0.0       0.00        1.0  "
      ]
     },
     "execution_count": 117,
     "metadata": {},
     "output_type": "execute_result"
    }
   ],
   "source": [
    "train_df.describe().T"
   ]
  },
  {
   "cell_type": "code",
   "execution_count": 128,
   "id": "6bd55b85",
   "metadata": {},
   "outputs": [
    {
     "data": {
      "text/plain": [
       "2    12784\n",
       "1    10930\n",
       "3      239\n",
       "0       47\n",
       "Name: MARRIAGE, dtype: int64"
      ]
     },
     "execution_count": 128,
     "metadata": {},
     "output_type": "execute_result"
    }
   ],
   "source": [
    "#train_df['SEX'].value_counts()\n",
    "#train_df['EDUCATION'].value_counts()\n",
    "train_df['MARRIAGE'].value_counts()"
   ]
  },
  {
   "cell_type": "code",
   "execution_count": 126,
   "id": "861359e8",
   "metadata": {},
   "outputs": [
    {
     "data": {
      "text/plain": [
       "0        1\n",
       "1        2\n",
       "2        1\n",
       "3        2\n",
       "4        3\n",
       "        ..\n",
       "23995    2\n",
       "23996    3\n",
       "23997    1\n",
       "23998    2\n",
       "23999    3\n",
       "Name: EDUCATION, Length: 24000, dtype: object"
      ]
     },
     "execution_count": 126,
     "metadata": {},
     "output_type": "execute_result"
    }
   ],
   "source": [
    "#train_df['SEX'].astype(object)\n",
    "#train_df['EDUCATION'].astype(object)"
   ]
  },
  {
   "cell_type": "code",
   "execution_count": null,
   "id": "691d726d",
   "metadata": {},
   "outputs": [],
   "source": []
  },
  {
   "cell_type": "code",
   "execution_count": null,
   "id": "1651caca",
   "metadata": {},
   "outputs": [],
   "source": []
  }
 ],
 "metadata": {
  "kernelspec": {
   "display_name": "Python 3 (ipykernel)",
   "language": "python",
   "name": "python3"
  },
  "language_info": {
   "codemirror_mode": {
    "name": "ipython",
    "version": 3
   },
   "file_extension": ".py",
   "mimetype": "text/x-python",
   "name": "python",
   "nbconvert_exporter": "python",
   "pygments_lexer": "ipython3",
   "version": "3.9.7"
  }
 },
 "nbformat": 4,
 "nbformat_minor": 5
}
